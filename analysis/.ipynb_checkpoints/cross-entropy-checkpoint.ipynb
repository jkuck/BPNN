{
 "cells": [
  {
   "cell_type": "markdown",
   "metadata": {},
   "source": [
    "## Codes copied from learn_bp_map_marginal... to create datasets and models"
   ]
  },
  {
   "cell_type": "code",
   "execution_count": 1,
   "metadata": {},
   "outputs": [
    {
     "name": "stdout",
     "output_type": "stream",
     "text": [
      "learn_BP: True\n",
      "learn_BP: True\n",
      "learn_BP: True\n",
      "learn_BP: True\n",
      "learn_BP: True\n",
      "learn_BP: True\n",
      "learn_BP: True\n",
      "learn_BP: True\n",
      "learn_BP: True\n",
      "learn_BP: True\n",
      "learn_BP: True\n",
      "learn_BP: True\n",
      "learn_BP: True\n",
      "learn_BP: True\n",
      "learn_BP: True\n",
      "learn_BP: True\n",
      "learn_BP: True\n",
      "learn_BP: True\n",
      "learn_BP: True\n",
      "learn_BP: True\n",
      "learn_BP: True\n",
      "learn_BP: True\n",
      "learn_BP: True\n",
      "learn_BP: True\n",
      "learn_BP: True\n",
      "learn_BP: True\n",
      "learn_BP: True\n",
      "learn_BP: True\n",
      "learn_BP: True\n",
      "learn_BP: True\n",
      "learn_BP: True\n",
      "learn_BP: True\n",
      "learn_BP: True\n",
      "learn_BP: True\n",
      "learn_BP: True\n",
      "learn_BP: True\n",
      "learn_BP: True\n",
      "learn_BP: True\n",
      "learn_BP: True\n",
      "learn_BP: True\n",
      "learn_BP: True\n",
      "learn_BP: True\n",
      "learn_BP: True\n",
      "learn_BP: True\n",
      "learn_BP: True\n",
      "learn_BP: True\n",
      "learn_BP: True\n",
      "learn_BP: True\n",
      "learn_BP: True\n",
      "learn_BP: True\n"
     ]
    }
   ],
   "source": [
    "import os\n",
    "os.chdir('..')\n",
    "\n",
    "import torch\n",
    "from torch import autograd\n",
    "import pickle\n",
    "import wandb\n",
    "import random\n",
    "\n",
    "from nn_models import lbp_message_passing_network, GIN_Network_withEdgeFeatures\n",
    "from ising_model.pytorch_dataset import build_factorgraph_from_SpinGlassModel\n",
    "from ising_model.spin_glass_model import SpinGlassModel\n",
    "from factor_graph import FactorGraphData\n",
    "from factor_graph import DataLoader_custom as DataLoader_pytorchGeometric\n",
    "\n",
    "from ising_model.pytorch_geometric_data import spinGlass_to_torchGeometric\n",
    "\n",
    "\n",
    "import os\n",
    "import matplotlib.pyplot as plt\n",
    "import matplotlib\n",
    "import numpy as np\n",
    "import parameters\n",
    "from parameters import ROOT_DIR, alpha, alpha2, SHARE_WEIGHTS, BETHE_MLP, NUM_MLPS\n",
    "import cProfile\n",
    "\n",
    "MODEL_MAP_FLAG = True\n",
    "CLASSIFICATION_FLAG = True\n",
    "TRAINING_FLAG = True\n",
    "BETHE_MLP = True\n",
    "ATTRACTIVE_FIELD = True\n",
    "LEARNING_RATE = 1e-6\n",
    "LR_DECAY_FLAG = False\n",
    "ALPHA = alpha\n",
    "ALPHA2 = alpha2\n",
    "MSG_PASSING_ITERS = 50\n",
    "SHARE_WEIGHTS = False\n",
    "\n",
    "\n",
    "MODE = \"train\" #run \"test\" or \"train\" mode\n",
    "\n",
    "TEST_TRAINED_MODEL = True \n",
    "EXPERIMENT_NAME = 'trained_MAP_attrField_10layer_2MLPs_noFinalBetheMLP/' #used for saving results when MODE='test'\n",
    "\n",
    "USE_WANDB = False\n",
    "####### Training PARAMETERS #######\n",
    "MAX_FACTOR_STATE_DIMENSIONS = 2\n",
    "EPSILON = 0 #set factor states with potential 0 to EPSILON for numerical stability\n",
    "SHARE_WEIGHTS = True if not TRAINING_FLAG  else SHARE_WEIGHTS\n",
    "MODEL_NAME = \"MAP_spinGlass_%dlayer_alpha=%f.pth\" % (MSG_PASSING_ITERS, parameters.alpha)\n",
    "TRAINED_MODELS_DIR = ROOT_DIR + \"trained_models_map/\" #trained models are stored here\n",
    "\n",
    "##########################################################################################################\n",
    "N_MIN_TRAIN = 10\n",
    "N_MAX_TRAIN = 10\n",
    "F_MAX_TRAIN = .1\n",
    "C_MAX_TRAIN = 5.0\n",
    "ATTRACTIVE_FIELD_TRAIN = ATTRACTIVE_FIELD\n",
    "\n",
    "N_MIN_VAL = 10\n",
    "N_MAX_VAL = 10\n",
    "F_MAX_VAL = .1\n",
    "C_MAX_VAL = 5.0\n",
    "ATTRACTIVE_FIELD_VAL = ATTRACTIVE_FIELD\n",
    "\n",
    "REGENERATE_DATA = False\n",
    "DATA_DIR = \"./data/spin_glass_map/\"\n",
    "\n",
    "TRAINING_DATA_SIZE = 50\n",
    "VAL_DATA_SIZE = 50#100\n",
    "TEST_DATA_SIZE = 200\n",
    "\n",
    "TRAIN_BATCH_SIZE=50\n",
    "VAL_BATCH_SIZE=50\n",
    "\n",
    "EPOCH_COUNT = 5000 if TRAINING_FLAG else 5\n",
    "PRINT_FREQUENCY = 10 if TRAINING_FLAG else 1\n",
    "VAL_FREQUENCY = 10 if TRAINING_FLAG else 1\n",
    "SAVE_FREQUENCY = 100 if TRAINING_FLAG else 1\n",
    "\n",
    "TEST_DATSET = 'val' \n",
    "\n",
    "##### Optimizer parameters #####\n",
    "STEP_SIZE=(EPOCH_COUNT//4)\n",
    "LR_DECAY=.5\n",
    "if ATTRACTIVE_FIELD_TRAIN == True:\n",
    "        LEARNING_RATE = LEARNING_RATE\n",
    "else:\n",
    "    LEARNING_RATE = LEARNING_RATE\n",
    "\n",
    "def get_dataset(dataset_type):\n",
    "    '''\n",
    "    Store/load a list of SpinGlassModels\n",
    "    When using, convert to BPNN or GNN form with either\n",
    "    build_factorgraph_from_SpinGlassModel(pytorch_geometric=True) for BPNN or spinGlass_to_torchGeometric() for GNN\n",
    "    '''\n",
    "    assert(dataset_type in ['train', 'val', 'test'])\n",
    "    if dataset_type == 'train':\n",
    "        datasize = TRAINING_DATA_SIZE\n",
    "        ATTRACTIVE_FIELD = ATTRACTIVE_FIELD_TRAIN\n",
    "        N_MIN = N_MIN_TRAIN\n",
    "        N_MAX = N_MAX_TRAIN\n",
    "        F_MAX = F_MAX_TRAIN\n",
    "        C_MAX = C_MAX_TRAIN\n",
    "    elif dataset_type == 'val':\n",
    "        datasize = VAL_DATA_SIZE\n",
    "        ATTRACTIVE_FIELD = ATTRACTIVE_FIELD_VAL\n",
    "        N_MIN = N_MIN_VAL\n",
    "        N_MAX = N_MAX_VAL\n",
    "        F_MAX = F_MAX_VAL\n",
    "        C_MAX = C_MAX_VAL\n",
    "    else:\n",
    "        datasize = TEST_DATA_SIZE\n",
    "        ATTRACTIVE_FIELD = ATTRACTIVE_FIELD_TEST\n",
    "\n",
    "    dataset_file = DATA_DIR + dataset_type + '%d_%d_%d_%.2f_%.2f_attField=%s.pkl' % (datasize, N_MIN, N_MAX, F_MAX, C_MAX, ATTRACTIVE_FIELD)\n",
    "    if REGENERATE_DATA or (not os.path.exists(dataset_file)):\n",
    "        print(\"REGENERATING DATA!!\")\n",
    "        spin_glass_models_list = [SpinGlassModel(N=random.randint(N_MIN, N_MAX),\\\n",
    "                                                f=np.random.uniform(low=0, high=F_MAX),\\\n",
    "                                                c=np.random.uniform(low=0, high=C_MAX),\\\n",
    "                                                attractive_field=ATTRACTIVE_FIELD) for i in range(datasize)]\n",
    "        if not os.path.exists(DATA_DIR):\n",
    "            os.makedirs(DATA_DIR)\n",
    "        with open(dataset_file, 'wb') as f:\n",
    "            pickle.dump(spin_glass_models_list, f)\n",
    "    else:\n",
    "        with open(dataset_file, 'rb') as f:\n",
    "            spin_glass_models_list = pickle.load(f)\n",
    "    return spin_glass_models_list\n",
    "\n",
    "device = torch.device('cpu')\n",
    "lbp_net = lbp_message_passing_network(max_factor_state_dimensions=MAX_FACTOR_STATE_DIMENSIONS,\\\n",
    "                                      msg_passing_iters=MSG_PASSING_ITERS, device=None, bethe_MLP=BETHE_MLP,\n",
    "                                      map_flag=MODEL_MAP_FLAG, marginal_flag=True, classification_flag=CLASSIFICATION_FLAG,\n",
    "                                      share_weights=SHARE_WEIGHTS,\n",
    "                                      alpha=ALPHA, alpha2=ALPHA2)\n",
    "\n",
    "lbp_net = lbp_net.to(device)\n",
    "\n",
    "# lbp_net.double()\n",
    "def cross_entropy_loss(x, y):\n",
    "    return -torch.mean(torch.sum(y*torch.log(x+1e-30), dim=1))\n",
    "def test_loss_func(x, y, sg_model):\n",
    "    if CLASSIFICATION_FLAG:\n",
    "        x = torch.log(x[:,0:-1]/x[:,-1:])\n",
    "        y = torch.log(y[:,0:-1]/y[:,-1:])\n",
    "    '''\n",
    "    x, y of shape [N, 1] representing the difference of log marginals\n",
    "\n",
    "    returning\n",
    "    - mse_diff_log_loss, l1_diff_log_loss\n",
    "    - mse_prob_loss, l1_prob_loss, cross_entropy_prob_loss, (where prob denotes\n",
    "    the pseudo probabilities calculated from marginals)\n",
    "    - var_state_accuracy, graph_state_accuracy, (where state denotes the\n",
    "    maximum states calculated from marginals)\n",
    "    - mse_logscore_state_loss, l1_logscore_state_loss, (where logscore\n",
    "    represents the logScore of the maximum state calculated from marginals)\n",
    "    '''\n",
    "    diff_log = torch.abs(x-y).reshape(-1)\n",
    "    mse_diff_log_loss = (diff_log**2).tolist()\n",
    "    l1_diff_log_loss = diff_log.tolist()\n",
    "\n",
    "    prob_x = torch.exp(x)/(torch.exp(x)+1)\n",
    "    prob_x = torch.cat([prob_x, 1-prob_x], dim=-1)\n",
    "    prob_y = torch.exp(y)/(torch.exp(y)+1)\n",
    "    prob_y = torch.cat([prob_y, 1-prob_y], dim=-1)\n",
    "    diff_prob = torch.abs(prob_x[:,0]-prob_y[:,0]).reshape(-1)\n",
    "    mse_prob_loss = (diff_prob**2).tolist()\n",
    "    l1_prob_loss = diff_prob.tolist()\n",
    "    cross_entropy_prob_loss = (-torch.sum(prob_y*torch.log(prob_x+1e-30), dim=1)).tolist()\n",
    "\n",
    "    state_x = (x<=0).float()\n",
    "    state_y = (y<=0).float()\n",
    "    accuracy = (state_x==state_y).float().reshape(-1)\n",
    "    var_state_accuracy = accuracy.tolist()\n",
    "    graph_state_accuracy = [torch.prod(accuracy).item()]\n",
    "\n",
    "    score_x = sg_model.logScore(tuple(state_x.reshape(-1).tolist()))\n",
    "    score_y = sg_model.logScore(tuple(state_y.reshape(-1).tolist()))\n",
    "    diff_score = abs(score_x-score_y)\n",
    "    mse_logscore_state_loss = [diff_score**2]\n",
    "    l1_logscore_state_loss = [diff_score]\n",
    "\n",
    "    return(\n",
    "        mse_diff_log_loss, l1_diff_log_loss,\n",
    "        mse_prob_loss, l1_prob_loss, cross_entropy_prob_loss,\n",
    "        var_state_accuracy, graph_state_accuracy,\n",
    "        mse_logscore_state_loss, l1_logscore_state_loss,\n",
    "    )"
   ]
  },
  {
   "cell_type": "code",
   "execution_count": 3,
   "metadata": {},
   "outputs": [],
   "source": [
    "lbp_net.train()\n",
    "optimizer = torch.optim.Adam(lbp_net.parameters(), lr=LEARNING_RATE)\n",
    "scheduler = torch.optim.lr_scheduler.StepLR(optimizer, step_size=STEP_SIZE, gamma=LR_DECAY) #multiply lr by gamma every step_size epochs\n",
    "loss_func = torch.nn.MSELoss() if not CLASSIFICATION_FLAG else cross_entropy_loss\n",
    "\n",
    "\n",
    "spin_glass_models_list_train = get_dataset(dataset_type='train')\n",
    "sg_models_fg_from_train = [build_factorgraph_from_SpinGlassModel(\n",
    "    sg_model, map_flag=True, marginal_flag=True, classification_flag=CLASSIFICATION_FLAG,\n",
    ") for sg_model in spin_glass_models_list_train]\n",
    "train_data_loader_pytorchGeometric = DataLoader_pytorchGeometric(sg_models_fg_from_train, batch_size=TRAIN_BATCH_SIZE, shuffle=False)\n",
    "\n",
    "\n",
    "spin_glass_models_list_val = get_dataset(dataset_type='val')\n",
    "sg_models_fg_from_val = [build_factorgraph_from_SpinGlassModel(\n",
    "    sg_model, map_flag=True, marginal_flag=True, classification_flag=CLASSIFICATION_FLAG,\n",
    ") for sg_model in spin_glass_models_list_val]\n",
    "val_data_loader_pytorchGeometric = DataLoader_pytorchGeometric(sg_models_fg_from_val, batch_size=VAL_BATCH_SIZE, shuffle=False)"
   ]
  },
  {
   "cell_type": "markdown",
   "metadata": {},
   "source": [
    "## Statistics of True fake probabilities"
   ]
  },
  {
   "cell_type": "code",
   "execution_count": 4,
   "metadata": {},
   "outputs": [
    {
     "name": "stdout",
     "output_type": "stream",
     "text": [
      "0 Batch_custom(batch_factors=[14000], batch_vars=[5000], edge_index=[2, 23000], edge_var_indices=[2, 23000], facStates_to_varIdx=[92000], facToVar_edge_idx=[2, 23000], factor_degrees=[14000], factor_potential_masks=[14000, 2, 2], factor_potentials=[14000, 2, 2], marginals=[5000, 2], numFactors=[50], numVars=[50], prv_factorToVar_messages=[23000, 2], prv_factor_beliefs=[14000, 2, 2], prv_varToFactor_messages=[23000, 2], prv_var_beliefs=[5000, 2], state_dimensions=[50], varToFactorMsg_scatter_indices=[92000], var_degrees=[5000])\n",
      "torch.Size([5000, 2])\n"
     ]
    }
   ],
   "source": [
    "for i, spin_glass_problem in enumerate(train_data_loader_pytorchGeometric):\n",
    "    print(i, spin_glass_problem)\n",
    "    exact_marginals_function = spin_glass_problem.marginals\n",
    "    print(exact_marginals_function.shape)"
   ]
  },
  {
   "cell_type": "code",
   "execution_count": 16,
   "metadata": {},
   "outputs": [
    {
     "name": "stdout",
     "output_type": "stream",
     "text": [
      "(5000, 2)\n",
      "5000\n"
     ]
    },
    {
     "data": {
      "image/png": "[encoded data removed]",
      "text/plain": [
       "<Figure size 432x288 with 1 Axes>"
      ]
     },
     "metadata": {
      "needs_background": "light"
     },
     "output_type": "display_data"
    }
   ],
   "source": [
    "import matplotlib.pyplot as plt\n",
    "\n",
    "true_prob = exact_marginals_function.detach().cpu().numpy()\n",
    "print(true_prob.shape)\n",
    "print(np.sum(np.absolute(np.sum(true_prob, axis=-1)-1)<1e-6))\n",
    "plt.hist(true_prob[:,0],bins=20)\n",
    "plt.xlabel('true probabilities')\n",
    "plt.ylabel('count in 5000 samples')\n",
    "plt.show()"
   ]
  },
  {
   "cell_type": "markdown",
   "metadata": {},
   "source": [
    "## Plot of cross-entropy-losses"
   ]
  },
  {
   "cell_type": "code",
   "execution_count": 18,
   "metadata": {},
   "outputs": [
    {
     "data": {
      "image/png": "[encoded data removed]",
      "text/plain": [
       "<Figure size 432x288 with 1 Axes>"
      ]
     },
     "metadata": {
      "needs_background": "light"
     },
     "output_type": "display_data"
    }
   ],
   "source": [
    "true_prob_list = [0.2, 0.3, 0.4, 0.45, 0.5, 0.55, 0.6, 0.7]\n",
    "pred_prob_list = np.linspace(0, 1, 102)[1:-1]\n",
    "for tp in true_prob_list:\n",
    "    closs = -tp*np.log(pred_prob_list)-(1-tp)*np.log(1-pred_prob_list)\n",
    "    plt.plot(pred_prob_list, closs)\n",
    "plt.xlabel('predicted probability')\n",
    "plt.ylabel('cross entropy losses')\n",
    "plt.legend(['true_prob=%.2f'%(tp) for tp in true_prob_list])\n",
    "plt.show()"
   ]
  },
  {
   "cell_type": "code",
   "execution_count": 17,
   "metadata": {},
   "outputs": [
    {
     "name": "stdout",
     "output_type": "stream",
     "text": [
      "0.66825265\n"
     ]
    }
   ],
   "source": [
    "# minimum cross-entropy-loss\n",
    "print(-np.mean(np.sum(true_prob*np.log(true_prob), axis=-1)))"
   ]
  }
 ],
 "metadata": {
  "kernelspec": {
   "display_name": "Python 3",
   "language": "python",
   "name": "python3"
  },
  "language_info": {
   "codemirror_mode": {
    "name": "ipython",
    "version": 3
   },
   "file_extension": ".py",
   "mimetype": "text/x-python",
   "name": "python",
   "nbconvert_exporter": "python",
   "pygments_lexer": "ipython3",
   "version": "3.7.6"
  }
 },
 "nbformat": 4,
 "nbformat_minor": 4
}
